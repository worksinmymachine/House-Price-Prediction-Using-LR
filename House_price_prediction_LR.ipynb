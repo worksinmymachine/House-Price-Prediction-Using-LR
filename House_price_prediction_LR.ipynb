{
  "nbformat": 4,
  "nbformat_minor": 0,
  "metadata": {
    "colab": {
      "provenance": []
    },
    "kernelspec": {
      "name": "python3",
      "display_name": "Python 3"
    },
    "language_info": {
      "name": "python"
    }
  },
  "cells": [
    {
      "cell_type": "markdown",
      "source": [
        "Importing the libraries"
      ],
      "metadata": {
        "id": "o4RfAggT_r28"
      }
    },
    {
      "cell_type": "code",
      "source": [
        "import pandas as pd\n",
        "import numpy as np\n",
        "import matplotlib.pyplot as plt"
      ],
      "metadata": {
        "id": "a7nDJzlB_vPe"
      },
      "execution_count": 1,
      "outputs": []
    },
    {
      "cell_type": "markdown",
      "source": [
        "importing the dataset"
      ],
      "metadata": {
        "id": "JN4AHafZ_9KK"
      }
    },
    {
      "cell_type": "code",
      "source": [
        "df=pd.read_csv('data.csv')\n",
        "print(df)"
      ],
      "metadata": {
        "colab": {
          "base_uri": "https://localhost:8080/"
        },
        "id": "5elHH2OD_-t4",
        "outputId": "f0c7a201-871f-4a4c-ef68-d0010b00078b"
      },
      "execution_count": 3,
      "outputs": [
        {
          "output_type": "stream",
          "name": "stdout",
          "text": [
            "                     date         price  bedrooms  bathrooms  sqft_living  \\\n",
            "0     2014-05-02 00:00:00  3.130000e+05       3.0       1.50         1340   \n",
            "1     2014-05-02 00:00:00  2.384000e+06       5.0       2.50         3650   \n",
            "2     2014-05-02 00:00:00  3.420000e+05       3.0       2.00         1930   \n",
            "3     2014-05-02 00:00:00  4.200000e+05       3.0       2.25         2000   \n",
            "4     2014-05-02 00:00:00  5.500000e+05       4.0       2.50         1940   \n",
            "...                   ...           ...       ...        ...          ...   \n",
            "4595  2014-07-09 00:00:00  3.081667e+05       3.0       1.75         1510   \n",
            "4596  2014-07-09 00:00:00  5.343333e+05       3.0       2.50         1460   \n",
            "4597  2014-07-09 00:00:00  4.169042e+05       3.0       2.50         3010   \n",
            "4598  2014-07-10 00:00:00  2.034000e+05       4.0       2.00         2090   \n",
            "4599  2014-07-10 00:00:00  2.206000e+05       3.0       2.50         1490   \n",
            "\n",
            "      sqft_lot  floors  waterfront  view  condition  sqft_above  \\\n",
            "0         7912     1.5           0     0          3        1340   \n",
            "1         9050     2.0           0     4          5        3370   \n",
            "2        11947     1.0           0     0          4        1930   \n",
            "3         8030     1.0           0     0          4        1000   \n",
            "4        10500     1.0           0     0          4        1140   \n",
            "...        ...     ...         ...   ...        ...         ...   \n",
            "4595      6360     1.0           0     0          4        1510   \n",
            "4596      7573     2.0           0     0          3        1460   \n",
            "4597      7014     2.0           0     0          3        3010   \n",
            "4598      6630     1.0           0     0          3        1070   \n",
            "4599      8102     2.0           0     0          4        1490   \n",
            "\n",
            "      sqft_basement  yr_built  yr_renovated                    street  \\\n",
            "0                 0      1955          2005      18810 Densmore Ave N   \n",
            "1               280      1921             0           709 W Blaine St   \n",
            "2                 0      1966             0  26206-26214 143rd Ave SE   \n",
            "3              1000      1963             0           857 170th Pl NE   \n",
            "4               800      1976          1992         9105 170th Ave NE   \n",
            "...             ...       ...           ...                       ...   \n",
            "4595              0      1954          1979            501 N 143rd St   \n",
            "4596              0      1983          2009          14855 SE 10th Pl   \n",
            "4597              0      2009             0          759 Ilwaco Pl NE   \n",
            "4598           1020      1974             0         5148 S Creston St   \n",
            "4599              0      1990             0         18717 SE 258th St   \n",
            "\n",
            "           city  statezip country  \n",
            "0     Shoreline  WA 98133     USA  \n",
            "1       Seattle  WA 98119     USA  \n",
            "2          Kent  WA 98042     USA  \n",
            "3      Bellevue  WA 98008     USA  \n",
            "4       Redmond  WA 98052     USA  \n",
            "...         ...       ...     ...  \n",
            "4595    Seattle  WA 98133     USA  \n",
            "4596   Bellevue  WA 98007     USA  \n",
            "4597     Renton  WA 98059     USA  \n",
            "4598    Seattle  WA 98178     USA  \n",
            "4599  Covington  WA 98042     USA  \n",
            "\n",
            "[4600 rows x 18 columns]\n"
          ]
        }
      ]
    },
    {
      "cell_type": "code",
      "source": [
        "# Preprocessing: Selecting features and target variable\n",
        "x = df[['bedrooms', 'bathrooms', 'sqft_living', 'sqft_lot', 'floors', 'waterfront', 'view', 'condition']]\n",
        "y = df['price']\n",
        "print(x)\n",
        "print(y)"
      ],
      "metadata": {
        "colab": {
          "base_uri": "https://localhost:8080/"
        },
        "id": "Tvv0gyyNAn4y",
        "outputId": "4518c192-d4dd-4833-d3f4-464893d04ed7"
      },
      "execution_count": 5,
      "outputs": [
        {
          "output_type": "stream",
          "name": "stdout",
          "text": [
            "      bedrooms  bathrooms  sqft_living  sqft_lot  floors  waterfront  view  \\\n",
            "0          3.0       1.50         1340      7912     1.5           0     0   \n",
            "1          5.0       2.50         3650      9050     2.0           0     4   \n",
            "2          3.0       2.00         1930     11947     1.0           0     0   \n",
            "3          3.0       2.25         2000      8030     1.0           0     0   \n",
            "4          4.0       2.50         1940     10500     1.0           0     0   \n",
            "...        ...        ...          ...       ...     ...         ...   ...   \n",
            "4595       3.0       1.75         1510      6360     1.0           0     0   \n",
            "4596       3.0       2.50         1460      7573     2.0           0     0   \n",
            "4597       3.0       2.50         3010      7014     2.0           0     0   \n",
            "4598       4.0       2.00         2090      6630     1.0           0     0   \n",
            "4599       3.0       2.50         1490      8102     2.0           0     0   \n",
            "\n",
            "      condition  \n",
            "0             3  \n",
            "1             5  \n",
            "2             4  \n",
            "3             4  \n",
            "4             4  \n",
            "...         ...  \n",
            "4595          4  \n",
            "4596          3  \n",
            "4597          3  \n",
            "4598          3  \n",
            "4599          4  \n",
            "\n",
            "[4600 rows x 8 columns]\n",
            "0       3.130000e+05\n",
            "1       2.384000e+06\n",
            "2       3.420000e+05\n",
            "3       4.200000e+05\n",
            "4       5.500000e+05\n",
            "            ...     \n",
            "4595    3.081667e+05\n",
            "4596    5.343333e+05\n",
            "4597    4.169042e+05\n",
            "4598    2.034000e+05\n",
            "4599    2.206000e+05\n",
            "Name: price, Length: 4600, dtype: float64\n"
          ]
        }
      ]
    },
    {
      "cell_type": "markdown",
      "source": [
        "split into test & train data"
      ],
      "metadata": {
        "id": "WEEu0ySTB8-V"
      }
    },
    {
      "cell_type": "code",
      "source": [
        "from sklearn.model_selection import train_test_split\n",
        "x_train,x_test,y_train,y_test=train_test_split(x,y,test_size=0.2,random_state=42)\n",
        "print(x_train)\n",
        "print(x_test)\n",
        "print(y_train)\n",
        "print(y_test)"
      ],
      "metadata": {
        "colab": {
          "base_uri": "https://localhost:8080/"
        },
        "id": "2mgLhqagCBwh",
        "outputId": "1b0d51e3-d0ea-4e26-9f9a-1fe7b3c59990"
      },
      "execution_count": 6,
      "outputs": [
        {
          "output_type": "stream",
          "name": "stdout",
          "text": [
            "      bedrooms  bathrooms  sqft_living  sqft_lot  floors  waterfront  view  \\\n",
            "1898       4.0       2.50         2770     45514     2.0           0     0   \n",
            "1370       4.0       3.00         3720     29043     2.0           0     0   \n",
            "3038       4.0       2.50         2810     11120     2.0           0     0   \n",
            "2361       4.0       3.75         4030     10800     2.0           0     0   \n",
            "156        3.0       2.00         2000      7000     2.0           0     0   \n",
            "...        ...        ...          ...       ...     ...         ...   ...   \n",
            "4426       3.0       1.00         1180      5002     1.5           0     0   \n",
            "466        4.0       2.00         2520      6000     1.0           0     0   \n",
            "3092       3.0       1.00         1150      8145     1.0           0     0   \n",
            "3772       2.0       1.00          910      2002     1.5           0     0   \n",
            "860        2.0       1.00         1490      3825     1.0           0     0   \n",
            "\n",
            "      condition  \n",
            "1898          4  \n",
            "1370          3  \n",
            "3038          3  \n",
            "2361          3  \n",
            "156           3  \n",
            "...         ...  \n",
            "4426          3  \n",
            "466           3  \n",
            "3092          4  \n",
            "3772          3  \n",
            "860           3  \n",
            "\n",
            "[3680 rows x 8 columns]\n",
            "      bedrooms  bathrooms  sqft_living  sqft_lot  floors  waterfront  view  \\\n",
            "3683       3.0       2.50         1460      1613     2.0           0     0   \n",
            "4411       5.0       2.25         2000      7900     1.0           0     0   \n",
            "2584       3.0       3.25         2940      5432     3.0           0     3   \n",
            "69         3.0       2.50         2200      7350     1.0           0     0   \n",
            "1844       3.0       2.50         1720      8755     1.0           0     0   \n",
            "...        ...        ...          ...       ...     ...         ...   ...   \n",
            "1612       3.0       1.75         1700      8400     1.0           0     0   \n",
            "1068       5.0       2.00         1930      6120     1.5           0     0   \n",
            "4350       3.0       2.00         1180      7793     1.0           0     0   \n",
            "3027       4.0       2.50         2370     10083     2.0           0     0   \n",
            "3455       4.0       2.25         2260      7200     2.0           0     0   \n",
            "\n",
            "      condition  \n",
            "3683          3  \n",
            "4411          4  \n",
            "2584          4  \n",
            "69            5  \n",
            "1844          3  \n",
            "...         ...  \n",
            "1612          3  \n",
            "1068          3  \n",
            "4350          4  \n",
            "3027          5  \n",
            "3455          4  \n",
            "\n",
            "[920 rows x 8 columns]\n",
            "1898    6.850000e+05\n",
            "1370    8.570000e+05\n",
            "3038    6.750000e+05\n",
            "2361    1.485000e+06\n",
            "156     5.610000e+05\n",
            "            ...     \n",
            "4426    2.825089e+05\n",
            "466     8.750000e+05\n",
            "3092    2.900000e+05\n",
            "3772    6.000000e+05\n",
            "860     4.750000e+05\n",
            "Name: price, Length: 3680, dtype: float64\n",
            "3683      544000.0\n",
            "4411           0.0\n",
            "2584     1712500.0\n",
            "69        365000.0\n",
            "1844      275000.0\n",
            "           ...    \n",
            "1612      750000.0\n",
            "1068      230000.0\n",
            "4350    26590000.0\n",
            "3027      687000.0\n",
            "3455      289659.0\n",
            "Name: price, Length: 920, dtype: float64\n"
          ]
        }
      ]
    },
    {
      "cell_type": "markdown",
      "source": [
        "Train the model"
      ],
      "metadata": {
        "id": "mNcOUNfhDfze"
      }
    },
    {
      "cell_type": "code",
      "source": [
        "from sklearn.linear_model import LinearRegression\n",
        "regressor=LinearRegression()\n",
        "regressor.fit(x_train,y_train)"
      ],
      "metadata": {
        "colab": {
          "base_uri": "https://localhost:8080/",
          "height": 75
        },
        "id": "QmhH4HmjDhM4",
        "outputId": "af029289-28a4-4b27-b8e7-5ec8c7700a63"
      },
      "execution_count": 7,
      "outputs": [
        {
          "output_type": "execute_result",
          "data": {
            "text/plain": [
              "LinearRegression()"
            ],
            "text/html": [
              "<style>#sk-container-id-1 {color: black;background-color: white;}#sk-container-id-1 pre{padding: 0;}#sk-container-id-1 div.sk-toggleable {background-color: white;}#sk-container-id-1 label.sk-toggleable__label {cursor: pointer;display: block;width: 100%;margin-bottom: 0;padding: 0.3em;box-sizing: border-box;text-align: center;}#sk-container-id-1 label.sk-toggleable__label-arrow:before {content: \"▸\";float: left;margin-right: 0.25em;color: #696969;}#sk-container-id-1 label.sk-toggleable__label-arrow:hover:before {color: black;}#sk-container-id-1 div.sk-estimator:hover label.sk-toggleable__label-arrow:before {color: black;}#sk-container-id-1 div.sk-toggleable__content {max-height: 0;max-width: 0;overflow: hidden;text-align: left;background-color: #f0f8ff;}#sk-container-id-1 div.sk-toggleable__content pre {margin: 0.2em;color: black;border-radius: 0.25em;background-color: #f0f8ff;}#sk-container-id-1 input.sk-toggleable__control:checked~div.sk-toggleable__content {max-height: 200px;max-width: 100%;overflow: auto;}#sk-container-id-1 input.sk-toggleable__control:checked~label.sk-toggleable__label-arrow:before {content: \"▾\";}#sk-container-id-1 div.sk-estimator input.sk-toggleable__control:checked~label.sk-toggleable__label {background-color: #d4ebff;}#sk-container-id-1 div.sk-label input.sk-toggleable__control:checked~label.sk-toggleable__label {background-color: #d4ebff;}#sk-container-id-1 input.sk-hidden--visually {border: 0;clip: rect(1px 1px 1px 1px);clip: rect(1px, 1px, 1px, 1px);height: 1px;margin: -1px;overflow: hidden;padding: 0;position: absolute;width: 1px;}#sk-container-id-1 div.sk-estimator {font-family: monospace;background-color: #f0f8ff;border: 1px dotted black;border-radius: 0.25em;box-sizing: border-box;margin-bottom: 0.5em;}#sk-container-id-1 div.sk-estimator:hover {background-color: #d4ebff;}#sk-container-id-1 div.sk-parallel-item::after {content: \"\";width: 100%;border-bottom: 1px solid gray;flex-grow: 1;}#sk-container-id-1 div.sk-label:hover label.sk-toggleable__label {background-color: #d4ebff;}#sk-container-id-1 div.sk-serial::before {content: \"\";position: absolute;border-left: 1px solid gray;box-sizing: border-box;top: 0;bottom: 0;left: 50%;z-index: 0;}#sk-container-id-1 div.sk-serial {display: flex;flex-direction: column;align-items: center;background-color: white;padding-right: 0.2em;padding-left: 0.2em;position: relative;}#sk-container-id-1 div.sk-item {position: relative;z-index: 1;}#sk-container-id-1 div.sk-parallel {display: flex;align-items: stretch;justify-content: center;background-color: white;position: relative;}#sk-container-id-1 div.sk-item::before, #sk-container-id-1 div.sk-parallel-item::before {content: \"\";position: absolute;border-left: 1px solid gray;box-sizing: border-box;top: 0;bottom: 0;left: 50%;z-index: -1;}#sk-container-id-1 div.sk-parallel-item {display: flex;flex-direction: column;z-index: 1;position: relative;background-color: white;}#sk-container-id-1 div.sk-parallel-item:first-child::after {align-self: flex-end;width: 50%;}#sk-container-id-1 div.sk-parallel-item:last-child::after {align-self: flex-start;width: 50%;}#sk-container-id-1 div.sk-parallel-item:only-child::after {width: 0;}#sk-container-id-1 div.sk-dashed-wrapped {border: 1px dashed gray;margin: 0 0.4em 0.5em 0.4em;box-sizing: border-box;padding-bottom: 0.4em;background-color: white;}#sk-container-id-1 div.sk-label label {font-family: monospace;font-weight: bold;display: inline-block;line-height: 1.2em;}#sk-container-id-1 div.sk-label-container {text-align: center;}#sk-container-id-1 div.sk-container {/* jupyter's `normalize.less` sets `[hidden] { display: none; }` but bootstrap.min.css set `[hidden] { display: none !important; }` so we also need the `!important` here to be able to override the default hidden behavior on the sphinx rendered scikit-learn.org. See: https://github.com/scikit-learn/scikit-learn/issues/21755 */display: inline-block !important;position: relative;}#sk-container-id-1 div.sk-text-repr-fallback {display: none;}</style><div id=\"sk-container-id-1\" class=\"sk-top-container\"><div class=\"sk-text-repr-fallback\"><pre>LinearRegression()</pre><b>In a Jupyter environment, please rerun this cell to show the HTML representation or trust the notebook. <br />On GitHub, the HTML representation is unable to render, please try loading this page with nbviewer.org.</b></div><div class=\"sk-container\" hidden><div class=\"sk-item\"><div class=\"sk-estimator sk-toggleable\"><input class=\"sk-toggleable__control sk-hidden--visually\" id=\"sk-estimator-id-1\" type=\"checkbox\" checked><label for=\"sk-estimator-id-1\" class=\"sk-toggleable__label sk-toggleable__label-arrow\">LinearRegression</label><div class=\"sk-toggleable__content\"><pre>LinearRegression()</pre></div></div></div></div></div>"
            ]
          },
          "metadata": {},
          "execution_count": 7
        }
      ]
    },
    {
      "cell_type": "markdown",
      "source": [
        "predict the test results"
      ],
      "metadata": {
        "id": "7zunlJuFDsI0"
      }
    },
    {
      "cell_type": "code",
      "source": [
        "y_pred=regressor.predict(x_test)"
      ],
      "metadata": {
        "id": "i00E-aoTDt34"
      },
      "execution_count": 9,
      "outputs": []
    },
    {
      "cell_type": "markdown",
      "source": [
        "Visualize using matplotlib"
      ],
      "metadata": {
        "id": "URRw5fyUEDJq"
      }
    },
    {
      "cell_type": "code",
      "source": [
        "# To visualize the predictions against actual prices, we'll use a scatter plot\n",
        "plt.scatter(y_test, y_pred)\n",
        "plt.xlabel(\"Actual Prices\")\n",
        "plt.ylabel(\"Predicted Prices\")\n",
        "plt.title(\"Actual Prices vs. Predicted Prices\")\n",
        "plt.show()"
      ],
      "metadata": {
        "colab": {
          "base_uri": "https://localhost:8080/",
          "height": 472
        },
        "id": "StBhkC-GEGme",
        "outputId": "1214159f-aff5-4313-c532-a3a9a7f83bdc"
      },
      "execution_count": 11,
      "outputs": [
        {
          "output_type": "display_data",
          "data": {
            "text/plain": [
              "<Figure size 640x480 with 1 Axes>"
            ],
            "image/png": "[encoded data removed]"
          },
          "metadata": {}
        }
      ]
    },
    {
      "cell_type": "markdown",
      "source": [
        "Take input from user & predict values\n"
      ],
      "metadata": {
        "id": "8nyRWSABERPH"
      }
    },
    {
      "cell_type": "code",
      "source": [
        "# Taking input from the user\n",
        "bedrooms = int(input(\"Enter the number of bedrooms: \"))\n",
        "bathrooms = int(input(\"Enter the number of bathrooms: \"))\n",
        "sqft_living = int(input(\"Enter the living area in square feet: \"))\n",
        "sqft_lot = int(input(\"Enter the lot size in square feet: \"))\n",
        "floors = int(input(\"How many floors does it have \"))\n",
        "waterfront = int(input(\"Does it have a waterfront? (1 for Yes, 0 for No): \"))\n",
        "view = int(input(\"Does it have a view? (1 for Yes, 0 for No): \"))\n",
        "condition = int(input(\"Rate the condition of the house\"))\n",
        "# Creating the data list\n",
        "new_data = [[bedrooms, bathrooms, sqft_living, sqft_lot, floors, waterfront, view, condition]]\n",
        "# Defining the column names\n",
        "columns = ['bedrooms', 'bathrooms', 'sqft_living', 'sqft_lot', 'floors', 'waterfront', 'view', 'condition']\n",
        "# Creating the DataFrame\n",
        "new_data_df = pd.DataFrame(new_data, columns=columns)"
      ],
      "metadata": {
        "colab": {
          "base_uri": "https://localhost:8080/"
        },
        "id": "AjZjmsSjEXYi",
        "outputId": "1b88b30a-051f-47cd-e8de-6fe80cddf62b"
      },
      "execution_count": 12,
      "outputs": [
        {
          "name": "stdout",
          "output_type": "stream",
          "text": [
            "Enter the number of bedrooms: 3\n",
            "Enter the number of bathrooms: 2\n",
            "Enter the living area in square feet: 1500\n",
            "Enter the lot size in square feet: 4000\n",
            "How many floors does it have 1\n",
            "Does it have a waterfront? (1 for Yes, 0 for No): 0\n",
            "Does it have a view? (1 for Yes, 0 for No): 0\n",
            "Rate the condition of the house3\n"
          ]
        }
      ]
    },
    {
      "cell_type": "code",
      "source": [
        "predicted_price=regressor.predict(new_data_df)\n",
        "print(\"predicted house price is :\",predicted_price[0])"
      ],
      "metadata": {
        "colab": {
          "base_uri": "https://localhost:8080/"
        },
        "id": "QctCuP3eGBsI",
        "outputId": "4b7315bd-dc0d-4856-977d-7c92bfc85fe3"
      },
      "execution_count": 14,
      "outputs": [
        {
          "output_type": "stream",
          "name": "stdout",
          "text": [
            "predicted house price is : 331038.9687692916\n"
          ]
        }
      ]
    }
  ]
}